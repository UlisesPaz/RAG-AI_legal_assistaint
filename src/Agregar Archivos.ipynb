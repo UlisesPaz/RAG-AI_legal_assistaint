{
 "cells": [
  {
   "cell_type": "markdown",
   "metadata": {},
   "source": [
    "# Agregar Archivos"
   ]
  },
  {
   "cell_type": "code",
   "execution_count": 2,
   "metadata": {},
   "outputs": [],
   "source": [
    "import os\n",
    "import chromadb\n",
    "from langchain_chroma import Chroma\n",
    "from langchain_text_splitters import RecursiveCharacterTextSplitter\n",
    "from langchain_community.embeddings import HuggingFaceEmbeddings\n",
    "from langchain_community.document_loaders import PyPDFLoader"
   ]
  },
  {
   "cell_type": "code",
   "execution_count": null,
   "metadata": {},
   "outputs": [],
   "source": [
    "embeddings = HuggingFaceEmbeddings(model_name='all-MiniLM-L6-v2')\n",
    "persistent_client = chromadb.PersistentClient(path='./database')"
   ]
  },
  {
   "cell_type": "code",
   "execution_count": 4,
   "metadata": {},
   "outputs": [],
   "source": [
    "from langchain_huggingface import HuggingFaceEmbeddings\n",
    "\n",
    "model_name = \"sentence-transformers/all-mpnet-base-v2\"\n",
    "model_kwargs = {'device': 'cpu'}\n",
    "encode_kwargs = {'normalize_embeddings': False}\n",
    "hf = HuggingFaceEmbeddings(\n",
    "    model_name=model_name,\n",
    "    model_kwargs=model_kwargs,\n",
    "    encode_kwargs=encode_kwargs\n",
    ")"
   ]
  },
  {
   "cell_type": "code",
   "execution_count": 5,
   "metadata": {},
   "outputs": [],
   "source": [
    "def add_files_to_vectordb(filepath):\n",
    "    try:\n",
    "        loader = PyPDFLoader(filepath)\n",
    "        docs = loader.load()\n",
    "        text_splitter = RecursiveCharacterTextSplitter(chunk_size=500, chunk_overlap=50)\n",
    "        splits = text_splitter.split_documents(docs)\n",
    "        vectorstore = Chroma.from_documents(documents=splits, embedding=embeddings, persist_directory='./database')\n",
    "        print(f\"Archivo procesado y agregado a la base de vectores: {filepath}\")\n",
    "    except Exception as e:\n",
    "        print(f\"Error al procesar el archivo {filepath}: {e}\")"
   ]
  },
  {
   "cell_type": "code",
   "execution_count": null,
   "metadata": {},
   "outputs": [],
   "source": [
    "import os\n",
    "\n",
    "# Ruta de la carpeta\n",
    "folder_path = './data'\n",
    "\n",
    "# Listar todos los archivos y carpetas dentro de la carpeta especificada\n",
    "files_and_dirs = os.listdir(folder_path)\n",
    "\n",
    "# Filtrar solo los archivos (ignorando subcarpetas)\n",
    "files = [f for f in files_and_dirs if os.path.isfile(os.path.join(folder_path, f))]\n",
    "\n",
    "# Imprimir la llamada a add_files_to_vectordb para cada archivo\n",
    "for file in files:\n",
    "    file_path = os.path.join(folder_path, file)\n",
    "    print(f\"add_files_to_vectordb('{file_path}')\")\n"
   ]
  },
  {
   "cell_type": "code",
   "execution_count": null,
   "metadata": {},
   "outputs": [],
   "source": [
    "add_files_to_vectordb('./data/Caso 1.pdf')\n",
    "add_files_to_vectordb('./data/Caso 10.pdf')\n",
    "add_files_to_vectordb('./data/Caso 2.pdf')\n",
    "add_files_to_vectordb('./data/Caso 3.pdf')\n",
    "add_files_to_vectordb('./data/Caso 4.pdf')\n",
    "add_files_to_vectordb('./data/Caso 5.pdf')\n",
    "add_files_to_vectordb('./data/Caso 6.pdf')\n",
    "add_files_to_vectordb('./data/Caso 7.pdf')\n",
    "add_files_to_vectordb('./data/Caso 8.pdf')\n",
    "add_files_to_vectordb('./data/Caso 9.pdf')"
   ]
  },
  {
   "cell_type": "code",
   "execution_count": null,
   "metadata": {},
   "outputs": [],
   "source": [
    "add_files_to_vectordb('./data/Caso_sintetico_01.pdf')\n",
    "add_files_to_vectordb('./data/Caso_sintetico_02.pdf')\n",
    "add_files_to_vectordb('./data/Caso_sintetico_03.pdf')\n",
    "add_files_to_vectordb('./data/Caso_sintetico_04.pdf')\n",
    "add_files_to_vectordb('./data/Caso_sintetico_05.pdf')\n",
    "add_files_to_vectordb('./data/Caso_sintetico_06.pdf')\n",
    "add_files_to_vectordb('./data/Caso_sintetico_07.pdf')\n",
    "add_files_to_vectordb('./data/Caso_sintetico_08.pdf')\n",
    "add_files_to_vectordb('./data/Caso_sintetico_09.pdf')\n",
    "add_files_to_vectordb('./data/Caso_sintetico_10.pdf')"
   ]
  },
  {
   "cell_type": "code",
   "execution_count": null,
   "metadata": {},
   "outputs": [],
   "source": [
    "add_files_to_vectordb('./data/Caso_sintetico_11.pdf')\n",
    "add_files_to_vectordb('./data/Caso_sintetico_12.pdf')\n",
    "add_files_to_vectordb('./data/Caso_sintetico_13.pdf')\n",
    "add_files_to_vectordb('./data/Caso_sintetico_14.pdf')\n",
    "add_files_to_vectordb('./data/Caso_sintetico_15.pdf')\n",
    "add_files_to_vectordb('./data/Caso_sintetico_16.pdf')\n",
    "add_files_to_vectordb('./data/Caso_sintetico_17.pdf')\n",
    "add_files_to_vectordb('./data/Caso_sintetico_18.pdf')\n",
    "add_files_to_vectordb('./data/Caso_sintetico_19.pdf')\n",
    "add_files_to_vectordb('./data/Caso_sintetico_20.pdf')"
   ]
  },
  {
   "cell_type": "code",
   "execution_count": null,
   "metadata": {},
   "outputs": [],
   "source": [
    "add_files_to_vectordb('./data/Caso_sintetico_21.pdf')\n",
    "add_files_to_vectordb('./data/Caso_sintetico_22.pdf')\n",
    "add_files_to_vectordb('./data/Caso_sintetico_23.pdf')\n",
    "add_files_to_vectordb('./data/Caso_sintetico_24.pdf')\n",
    "add_files_to_vectordb('./data/Caso_sintetico_25.pdf')\n",
    "add_files_to_vectordb('./data/Caso_sintetico_26.pdf')\n",
    "add_files_to_vectordb('./data/Caso_sintetico_27.pdf')\n",
    "add_files_to_vectordb('./data/Caso_sintetico_28.pdf')\n",
    "add_files_to_vectordb('./data/Caso_sintetico_29.pdf')\n",
    "add_files_to_vectordb('./data/Caso_sintetico_30.pdf')"
   ]
  },
  {
   "cell_type": "code",
   "execution_count": null,
   "metadata": {},
   "outputs": [],
   "source": [
    "add_files_to_vectordb('./data/Caso_sintetico_31.pdf')\n",
    "add_files_to_vectordb('./data/Caso_sintetico_32.pdf')\n",
    "add_files_to_vectordb('./data/Caso_sintetico_33.pdf')\n",
    "add_files_to_vectordb('./data/Caso_sintetico_34.pdf')\n",
    "add_files_to_vectordb('./data/Caso_sintetico_35.pdf')\n",
    "add_files_to_vectordb('./data/Caso_sintetico_36.pdf')\n",
    "add_files_to_vectordb('./data/Caso_sintetico_37.pdf')\n",
    "add_files_to_vectordb('./data/Caso_sintetico_38.pdf')\n",
    "add_files_to_vectordb('./data/Caso_sintetico_39.pdf')\n",
    "add_files_to_vectordb('./data/Caso_sintetico_40.pdf')"
   ]
  },
  {
   "cell_type": "code",
   "execution_count": null,
   "metadata": {},
   "outputs": [],
   "source": [
    "add_files_to_vectordb('./data/CMMI.pdf')\n",
    "add_files_to_vectordb('./data/COBIT.pdf')\n",
    "add_files_to_vectordb('./data/Convenio 108 del Consejo de Europa.pdf')\n",
    "add_files_to_vectordb('./data/decalogo.pdf')\n",
    "add_files_to_vectordb('./data/Decálogo sobre el ISO-IEC 27701.pdf')\n",
    "add_files_to_vectordb('./data/Directrices APEC.pdf')\n",
    "add_files_to_vectordb('./data/GDPR.pdf')\n",
    "add_files_to_vectordb('./data/Glosario Empresarial.pdf')\n",
    "add_files_to_vectordb('./data/Guia-para-garantizar-derechos-ARCO.pdf')\n",
    "add_files_to_vectordb('./data/Guia_para_ejercer_derechos_ARCO.pdf')"
   ]
  },
  {
   "cell_type": "code",
   "execution_count": null,
   "metadata": {},
   "outputs": [],
   "source": [
    "add_files_to_vectordb('./data/SGSI.pdf')\n",
    "add_files_to_vectordb('./data/SoluciónCaso10.docx.pdf')\n",
    "add_files_to_vectordb('./data/Tema 1.pdf')\n",
    "add_files_to_vectordb('./data/Tema 2.pdf')\n",
    "add_files_to_vectordb('./data/Tema 3.pdf')\n",
    "add_files_to_vectordb('./data/The_Legal_Implications_of_Data_Privacy_Laws_Cybers (1).pdf')\n",
    "add_files_to_vectordb('./data/NIST SP 800.pdf')\n",
    "add_files_to_vectordb('./data/UCAGS_Presentacion_OFR.pdf')\n",
    "add_files_to_vectordb('./data/s05_gpa_icdppc.pdf')\n",
    "add_files_to_vectordb('./data/ISO-IEC 27701 - Sistema de Gestión de Privacidad de la Información.pdf')"
   ]
  },
  {
   "cell_type": "code",
   "execution_count": null,
   "metadata": {},
   "outputs": [],
   "source": [
    "add_files_to_vectordb('./data/s05_gpa_icdppc.pdf')\n",
    "add_files_to_vectordb('./data/ISO-IEC 27701 - Sistema de Gestión de Privacidad de la Información.pdf')\n",
    "add_files_to_vectordb('./data/OCDE.pdf')"
   ]
  },
  {
   "cell_type": "code",
   "execution_count": null,
   "metadata": {},
   "outputs": [],
   "source": [
    "#ERROR\n",
    "#add_files_to_vectordb('./data/Policy and information security management based on ISO 27001.pdf')\n",
    "#add_files_to_vectordb('./data/Metodologia_de_analisis_y_evaluacion_de_riesgos_aplicados.pdf')\n",
    "#add_files_to_vectordb('./data/Policy and information security management based on ISO 27001.pdf')\n"
   ]
  },
  {
   "cell_type": "markdown",
   "metadata": {},
   "source": [
    "## Ver si se agregaron"
   ]
  },
  {
   "cell_type": "code",
   "execution_count": 2,
   "metadata": {},
   "outputs": [],
   "source": [
    "def get_unique_sources_list(chroma_settings):\n",
    "    # Obtén los datos de la colección\n",
    "    collection_data = chroma_settings.get_collection('langchain').get(include=['embeddings', 'documents', 'metadatas'])\n",
    "    \n",
    "    # Extrae los metadatos\n",
    "    metadatas = collection_data['metadatas']\n",
    "    \n",
    "    # Obtén los valores únicos de 'source'\n",
    "    sources = set()\n",
    "    for metadata in metadatas:\n",
    "        source = metadata.get('source', None)\n",
    "        if source:\n",
    "            sources.add(source)\n",
    "    \n",
    "    # Obtener solo el nombre de archivo de cada ruta\n",
    "    file_names = list(set(source.split('/')[-1] for source in sources))\n",
    "    \n",
    "    return file_names"
   ]
  },
  {
   "cell_type": "code",
   "execution_count": null,
   "metadata": {},
   "outputs": [],
   "source": [
    "get_unique_sources_list(persistent_client)"
   ]
  }
 ],
 "metadata": {
  "kernelspec": {
   "display_name": ".venv",
   "language": "python",
   "name": "python3"
  },
  "language_info": {
   "codemirror_mode": {
    "name": "ipython",
    "version": 3
   },
   "file_extension": ".py",
   "mimetype": "text/x-python",
   "name": "python",
   "nbconvert_exporter": "python",
   "pygments_lexer": "ipython3",
   "version": "3.12.3"
  }
 },
 "nbformat": 4,
 "nbformat_minor": 2
}
